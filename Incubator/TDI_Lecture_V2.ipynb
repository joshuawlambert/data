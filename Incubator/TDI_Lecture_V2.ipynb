{
 "cells": [
  {
   "cell_type": "markdown",
   "metadata": {},
   "source": [
    "\n",
    "\n",
    "# Hypothesis Testing, and P-Values\n",
    "\n",
    "First, to motivate these topics, lets get some data. Today, we will use a popular toy dataset called mtcars. **mtcars** is a dataset of 32 cars (and their attributes) from a 1974 Motor Trend Magazine. Lets go through some basic setup first and look of the data. \n"
   ]
  },
  {
   "cell_type": "code",
   "execution_count": 3,
   "metadata": {},
   "outputs": [
    {
     "name": "stderr",
     "output_type": "stream",
     "text": [
      "/home/josh/anaconda3/lib/python3.6/site-packages/ggplot/utils.py:81: FutureWarning: pandas.tslib is deprecated and will be removed in a future version.\n",
      "You can access Timestamp as pandas.Timestamp\n",
      "  pd.tslib.Timestamp,\n",
      "/home/josh/anaconda3/lib/python3.6/site-packages/ggplot/stats/smoothers.py:4: FutureWarning: The pandas.lib module is deprecated and will be removed in a future version. These are private functions and can be accessed from pandas._libs.lib instead\n",
      "  from pandas.lib import Timestamp\n",
      "/home/josh/anaconda3/lib/python3.6/site-packages/statsmodels/compat/pandas.py:56: FutureWarning: The pandas.core.datetools module is deprecated and will be removed in a future version. Please use the pandas.tseries module instead.\n",
      "  from pandas.core import datetools\n"
     ]
    }
   ],
   "source": [
    "#import necessary packages and modules\n",
    "from IPython.display import display\n",
    "import numpy as np\n",
    "import pandas as pd\n",
    "from ggplot import mtcars\n",
    "import matplotlib\n",
    "import matplotlib.pyplot as plt\n",
    "import scipy.stats as stats\n",
    "import best\n",
    "import best.plot\n",
    "from pymc import MCMC as pm\n",
    "import seaborn as sns\n",
    "%matplotlib inline \n",
    "matplotlib.style.use('ggplot')"
   ]
  },
  {
   "cell_type": "code",
   "execution_count": 4,
   "metadata": {},
   "outputs": [
    {
     "data": {
      "text/plain": [
       "(32, 12)"
      ]
     },
     "metadata": {},
     "output_type": "display_data"
    },
    {
     "data": {
      "text/html": [
       "<div>\n",
       "<style>\n",
       "    .dataframe thead tr:only-child th {\n",
       "        text-align: right;\n",
       "    }\n",
       "\n",
       "    .dataframe thead th {\n",
       "        text-align: left;\n",
       "    }\n",
       "\n",
       "    .dataframe tbody tr th {\n",
       "        vertical-align: top;\n",
       "    }\n",
       "</style>\n",
       "<table border=\"1\" class=\"dataframe\">\n",
       "  <thead>\n",
       "    <tr style=\"text-align: right;\">\n",
       "      <th></th>\n",
       "      <th>name</th>\n",
       "      <th>mpg</th>\n",
       "      <th>cyl</th>\n",
       "      <th>disp</th>\n",
       "      <th>hp</th>\n",
       "      <th>drat</th>\n",
       "      <th>wt</th>\n",
       "      <th>qsec</th>\n",
       "      <th>vs</th>\n",
       "      <th>am</th>\n",
       "      <th>gear</th>\n",
       "      <th>carb</th>\n",
       "    </tr>\n",
       "  </thead>\n",
       "  <tbody>\n",
       "    <tr>\n",
       "      <th>0</th>\n",
       "      <td>Mazda RX4</td>\n",
       "      <td>21.0</td>\n",
       "      <td>6</td>\n",
       "      <td>160.0</td>\n",
       "      <td>110</td>\n",
       "      <td>3.90</td>\n",
       "      <td>2.620</td>\n",
       "      <td>16.46</td>\n",
       "      <td>0</td>\n",
       "      <td>1</td>\n",
       "      <td>4</td>\n",
       "      <td>4</td>\n",
       "    </tr>\n",
       "    <tr>\n",
       "      <th>1</th>\n",
       "      <td>Mazda RX4 Wag</td>\n",
       "      <td>21.0</td>\n",
       "      <td>6</td>\n",
       "      <td>160.0</td>\n",
       "      <td>110</td>\n",
       "      <td>3.90</td>\n",
       "      <td>2.875</td>\n",
       "      <td>17.02</td>\n",
       "      <td>0</td>\n",
       "      <td>1</td>\n",
       "      <td>4</td>\n",
       "      <td>4</td>\n",
       "    </tr>\n",
       "    <tr>\n",
       "      <th>2</th>\n",
       "      <td>Datsun 710</td>\n",
       "      <td>22.8</td>\n",
       "      <td>4</td>\n",
       "      <td>108.0</td>\n",
       "      <td>93</td>\n",
       "      <td>3.85</td>\n",
       "      <td>2.320</td>\n",
       "      <td>18.61</td>\n",
       "      <td>1</td>\n",
       "      <td>1</td>\n",
       "      <td>4</td>\n",
       "      <td>1</td>\n",
       "    </tr>\n",
       "    <tr>\n",
       "      <th>3</th>\n",
       "      <td>Hornet 4 Drive</td>\n",
       "      <td>21.4</td>\n",
       "      <td>6</td>\n",
       "      <td>258.0</td>\n",
       "      <td>110</td>\n",
       "      <td>3.08</td>\n",
       "      <td>3.215</td>\n",
       "      <td>19.44</td>\n",
       "      <td>1</td>\n",
       "      <td>0</td>\n",
       "      <td>3</td>\n",
       "      <td>1</td>\n",
       "    </tr>\n",
       "    <tr>\n",
       "      <th>4</th>\n",
       "      <td>Hornet Sportabout</td>\n",
       "      <td>18.7</td>\n",
       "      <td>8</td>\n",
       "      <td>360.0</td>\n",
       "      <td>175</td>\n",
       "      <td>3.15</td>\n",
       "      <td>3.440</td>\n",
       "      <td>17.02</td>\n",
       "      <td>0</td>\n",
       "      <td>0</td>\n",
       "      <td>3</td>\n",
       "      <td>2</td>\n",
       "    </tr>\n",
       "  </tbody>\n",
       "</table>\n",
       "</div>"
      ],
      "text/plain": [
       "                name   mpg  cyl   disp   hp  drat     wt   qsec  vs  am  gear  \\\n",
       "0          Mazda RX4  21.0    6  160.0  110  3.90  2.620  16.46   0   1     4   \n",
       "1      Mazda RX4 Wag  21.0    6  160.0  110  3.90  2.875  17.02   0   1     4   \n",
       "2         Datsun 710  22.8    4  108.0   93  3.85  2.320  18.61   1   1     4   \n",
       "3     Hornet 4 Drive  21.4    6  258.0  110  3.08  3.215  19.44   1   0     3   \n",
       "4  Hornet Sportabout  18.7    8  360.0  175  3.15  3.440  17.02   0   0     3   \n",
       "\n",
       "   carb  \n",
       "0     4  \n",
       "1     4  \n",
       "2     1  \n",
       "3     1  \n",
       "4     2  "
      ]
     },
     "metadata": {},
     "output_type": "display_data"
    }
   ],
   "source": [
    "df=pd.DataFrame(mtcars)\n",
    "display(df.shape) #there are 32 rows and 12 columns\n",
    "display(df.head(5)) #shows first 5 rows of dataset. "
   ]
  },
  {
   "cell_type": "markdown",
   "metadata": {},
   "source": [
    "As we can see from the first *df.shape* command above, this dataset contains 32 rows (cars) and 12 columns (car attributes).\n",
    "\n",
    "There are many questions one may have when looking at these data. One such question may be **do heavier cars have a lower average Miles Per Gallon(MPG) than lighter cars?** There are many ways that we could address this question. First we must decide how we should define what is a **Heavy** car and what is a **Light** car. To keeps things simple, lets define heavy cars to be cars in our dataset which have weights above the median (roughly 3,325 Lbs in our dataset) and light cars to be cars in our dataset which are less than or equal to the median. \n",
    "\n",
    "To add this column to the dataset we can run the following code below."
   ]
  },
  {
   "cell_type": "code",
   "execution_count": 5,
   "metadata": {},
   "outputs": [
    {
     "data": {
      "text/plain": [
       "3.3250000000000002"
      ]
     },
     "metadata": {},
     "output_type": "display_data"
    },
    {
     "data": {
      "text/plain": [
       "(32, 13)"
      ]
     },
     "metadata": {},
     "output_type": "display_data"
    },
    {
     "data": {
      "text/html": [
       "<div>\n",
       "<style>\n",
       "    .dataframe thead tr:only-child th {\n",
       "        text-align: right;\n",
       "    }\n",
       "\n",
       "    .dataframe thead th {\n",
       "        text-align: left;\n",
       "    }\n",
       "\n",
       "    .dataframe tbody tr th {\n",
       "        vertical-align: top;\n",
       "    }\n",
       "</style>\n",
       "<table border=\"1\" class=\"dataframe\">\n",
       "  <thead>\n",
       "    <tr style=\"text-align: right;\">\n",
       "      <th></th>\n",
       "      <th>name</th>\n",
       "      <th>mpg</th>\n",
       "      <th>cyl</th>\n",
       "      <th>disp</th>\n",
       "      <th>hp</th>\n",
       "      <th>drat</th>\n",
       "      <th>wt</th>\n",
       "      <th>qsec</th>\n",
       "      <th>vs</th>\n",
       "      <th>am</th>\n",
       "      <th>gear</th>\n",
       "      <th>carb</th>\n",
       "      <th>wtCat</th>\n",
       "    </tr>\n",
       "  </thead>\n",
       "  <tbody>\n",
       "    <tr>\n",
       "      <th>0</th>\n",
       "      <td>Mazda RX4</td>\n",
       "      <td>21.0</td>\n",
       "      <td>6</td>\n",
       "      <td>160.0</td>\n",
       "      <td>110</td>\n",
       "      <td>3.90</td>\n",
       "      <td>2.620</td>\n",
       "      <td>16.46</td>\n",
       "      <td>0</td>\n",
       "      <td>1</td>\n",
       "      <td>4</td>\n",
       "      <td>4</td>\n",
       "      <td>Light</td>\n",
       "    </tr>\n",
       "    <tr>\n",
       "      <th>1</th>\n",
       "      <td>Mazda RX4 Wag</td>\n",
       "      <td>21.0</td>\n",
       "      <td>6</td>\n",
       "      <td>160.0</td>\n",
       "      <td>110</td>\n",
       "      <td>3.90</td>\n",
       "      <td>2.875</td>\n",
       "      <td>17.02</td>\n",
       "      <td>0</td>\n",
       "      <td>1</td>\n",
       "      <td>4</td>\n",
       "      <td>4</td>\n",
       "      <td>Light</td>\n",
       "    </tr>\n",
       "    <tr>\n",
       "      <th>2</th>\n",
       "      <td>Datsun 710</td>\n",
       "      <td>22.8</td>\n",
       "      <td>4</td>\n",
       "      <td>108.0</td>\n",
       "      <td>93</td>\n",
       "      <td>3.85</td>\n",
       "      <td>2.320</td>\n",
       "      <td>18.61</td>\n",
       "      <td>1</td>\n",
       "      <td>1</td>\n",
       "      <td>4</td>\n",
       "      <td>1</td>\n",
       "      <td>Light</td>\n",
       "    </tr>\n",
       "    <tr>\n",
       "      <th>3</th>\n",
       "      <td>Hornet 4 Drive</td>\n",
       "      <td>21.4</td>\n",
       "      <td>6</td>\n",
       "      <td>258.0</td>\n",
       "      <td>110</td>\n",
       "      <td>3.08</td>\n",
       "      <td>3.215</td>\n",
       "      <td>19.44</td>\n",
       "      <td>1</td>\n",
       "      <td>0</td>\n",
       "      <td>3</td>\n",
       "      <td>1</td>\n",
       "      <td>Light</td>\n",
       "    </tr>\n",
       "    <tr>\n",
       "      <th>4</th>\n",
       "      <td>Hornet Sportabout</td>\n",
       "      <td>18.7</td>\n",
       "      <td>8</td>\n",
       "      <td>360.0</td>\n",
       "      <td>175</td>\n",
       "      <td>3.15</td>\n",
       "      <td>3.440</td>\n",
       "      <td>17.02</td>\n",
       "      <td>0</td>\n",
       "      <td>0</td>\n",
       "      <td>3</td>\n",
       "      <td>2</td>\n",
       "      <td>Heavy</td>\n",
       "    </tr>\n",
       "  </tbody>\n",
       "</table>\n",
       "</div>"
      ],
      "text/plain": [
       "                name   mpg  cyl   disp   hp  drat     wt   qsec  vs  am  gear  \\\n",
       "0          Mazda RX4  21.0    6  160.0  110  3.90  2.620  16.46   0   1     4   \n",
       "1      Mazda RX4 Wag  21.0    6  160.0  110  3.90  2.875  17.02   0   1     4   \n",
       "2         Datsun 710  22.8    4  108.0   93  3.85  2.320  18.61   1   1     4   \n",
       "3     Hornet 4 Drive  21.4    6  258.0  110  3.08  3.215  19.44   1   0     3   \n",
       "4  Hornet Sportabout  18.7    8  360.0  175  3.15  3.440  17.02   0   0     3   \n",
       "\n",
       "   carb  wtCat  \n",
       "0     4  Light  \n",
       "1     4  Light  \n",
       "2     1  Light  \n",
       "3     1  Light  \n",
       "4     2  Heavy  "
      ]
     },
     "execution_count": 5,
     "metadata": {},
     "output_type": "execute_result"
    }
   ],
   "source": [
    "#Create new binary variable for whether the car is heavy or light.\n",
    "#Cutoff for heavy will be if the car is above the median wt for \n",
    "#all the cars in the dataset. Wt in this dataset is in 1,000's of Lbs.\n",
    "display(np.median(df['wt']))\n",
    "df['wtCat']=np.where(df['wt']>np.median(df['wt']), \"Heavy\", 'Light')\n",
    "display(df.shape)\n",
    "df.head(5) #display first 5 rows of the dataset."
   ]
  },
  {
   "cell_type": "markdown",
   "metadata": {},
   "source": [
    "## Hypothesis Testing\n",
    "One way to answer our question, **do heavier cars have a lower average MPG than lighter cars**, is to do conduct a statistical hypothesis test. Traditional statistical hypothesis testing (HT) approaches this subject by first designating a *Null* and *Alternative* hypothesis. More plainly said, the *Null* hypothesis is a statement about your question(or hypothesis) which indicates no (*Null*) effect. In our example the *Null* hypothesis would be: **heavier cars have the same average MPG as lighter cars**. The *Alternative Hypothesis* is the complement of the *Null* hypothesis. In our example the *Alternative* hypothesis is: **heavier cars do not have the same average MPG as lighter cars**. More formally, statisticians typically denote the *Null* and *Alternative* hypothesis in the following way: \n",
    "\n",
    "$\n",
    "\\begin{eqnarray*}\n",
    "H_{0} & : & \\mu_{Heavy}=\\mu_{Light}\\\\\n",
    "H_{A} & : & \\mu_{Heavy}\\ne\\mu_{Light}\n",
    "\\end{eqnarray*}\n",
    "$\n",
    "\n",
    "Here the $\\mu_{Heavy}$ represents the **true** mean MPG for heavy($wt>3,325lbs$) cars while $\\mu_{Light}$ represents the **true** mean MPG for the light($wt\\le3,325lbs$) cars. With our (assumed) randomly collected dataset, we hope to estimate these population *parameters* and come to a conclusion about our *Null* hypothesis. \n",
    "\n",
    "To estimate these parameters ($\\mu_{Heavy}$, and $\\mu_{Light}$), we can use the arithmetic mean (average) from the dataset. This is calculated in the traditional sense $\\bar{x} = \\frac{1}{n}\\left (\\sum_{i=1}^n{x_i}\\right ) = \\frac{x_1+x_2+\\cdots +x_n}{n}$ (sum of the values and divide by the number) .\n",
    "\n",
    "In python we calculate the two means $\\bar{MPG}_{Heavy}$, and $\\bar{MPG}_{Light}$ in the following way:"
   ]
  },
  {
   "cell_type": "code",
   "execution_count": 6,
   "metadata": {},
   "outputs": [
    {
     "name": "stdout",
     "output_type": "stream",
     "text": [
      "Average MPG_Heavy: 15.66875\n",
      "Average MPG_Light: 24.5125\n",
      "Sample Size MPG_Heavy: 16\n",
      "Sample Size MPG_Light: 16\n"
     ]
    }
   ],
   "source": [
    "print(\"Average MPG_Heavy:\",np.mean(df[df['wtCat']==\"Heavy\"][\"mpg\"]))\n",
    "print(\"Average MPG_Light:\",np.mean(df[df['wtCat']==\"Light\"][\"mpg\"]))\n",
    "print(\"Sample Size MPG_Heavy:\",np.count_nonzero(df[df['wtCat']==\"Heavy\"][\"mpg\"]))\n",
    "print(\"Sample Size MPG_Light:\",np.count_nonzero(df[df['wtCat']==\"Light\"][\"mpg\"]))"
   ]
  },
  {
   "cell_type": "markdown",
   "metadata": {},
   "source": [
    "As we can see, from our dataset, the average MPG for Heavy Cars is less then the average MPG for Lighter Cars. While this is evidence for the alternative hypothesis, statisticians would argue that this result could have been due to chance and is not statistically rigorous enough. To determine if this difference is large enough to say that we have *statistical evidence to support the alternative hypothesis* we compute the following $t$ statistic: $t = \\dfrac{\\bar{MPG}_{Heavy} - \\bar{MPG}_{Light}}{s_p \\sqrt\\frac{2}{n}}$, here $s_{p}=\\sqrt{\\dfrac{s_{MPG_{Heavy}}^{2}+s_{MPG_{Light}}^{2}}{2}}$. If this $t$ statistic is large enough then we *reject the Null hypothesis* and conclude that we have sufficient evidence for the alternative. How large, is large enough? The answer comes back to whether this result could be due to chance."
   ]
  },
  {
   "cell_type": "markdown",
   "metadata": {},
   "source": [
    "## P-Values\n",
    "\n",
    "To argue the point of chance, imagine that we were to collect a new set of 32 cars and calculate their MPG. These cars MPG will differ from our original 32. This variability is called **sampling variability**. If the sampling variability is estimated to be small and the difference in the two groups are large , then statistical theory tells us that the result would unlikely be due to chance. This trade off is reflected in the magnitude of the $t$ statistic. The **sampling distribution** is the theoretical distribution of the statistic from many collections of data (same sample size) from the population of interest. \n",
    "\n",
    "Statisticians have determined the **sampling distribution** for the $t$ statistic under the *null* hypothesis. This $t$ statistic, under the *null*, will follow a t distribution with $2n-2$ degrees of freedom. \n",
    "\n",
    "The $t$ distribution is similar to the *normal distribution*. If you compute the area under either curves, you will always get 1. The difference the two distributions is the degrees of freedom on the $t$ determines how wide the tail of the distribution is. The smaller degrees of freedom, the wider the tails. As the degrees of freedom become very large, the t-distribution will closely approximate a normal distribution. \n",
    "\n",
    "To illustrate this, see the following graph:"
   ]
  },
  {
   "cell_type": "code",
   "execution_count": 7,
   "metadata": {},
   "outputs": [
    {
     "data": {
      "text/plain": [
       "[<matplotlib.lines.Line2D at 0x7f8524526320>,\n",
       " <matplotlib.lines.Line2D at 0x7f8524526588>,\n",
       " <matplotlib.lines.Line2D at 0x7f8524526cf8>,\n",
       " <matplotlib.lines.Line2D at 0x7f8524535198>]"
      ]
     },
     "execution_count": 7,
     "metadata": {},
     "output_type": "execute_result"
    },
    {
     "data": {
      "image/png": "[encoded data removed]",
      "text/plain": [
       "<matplotlib.figure.Figure at 0x7f8524602d30>"
      ]
     },
     "metadata": {},
     "output_type": "display_data"
    }
   ],
   "source": [
    "rv5 = stats.t(df=1, loc=0, scale=1) # t distribution with 1 degrees of freedom #red\n",
    "rv10 = stats.t(df=5, loc=0, scale=1) # t distribution with 5 degrees of freedom #blue\n",
    "rv20 = stats.t(df=20, loc=0, scale=1) # t distribution with 20 degrees of freedom #purple\n",
    "rvN = stats.norm() #normal distribution mean 0 sd 1. #black\n",
    "x = np.linspace(-5, 5, 1000)\n",
    "plt.plot(x,rv5.pdf(x),x,rv10.pdf(x),x,rv20.pdf(x),x,rvN.pdf(x))\n"
   ]
  },
  {
   "cell_type": "markdown",
   "metadata": {},
   "source": [
    "As we can see, the $t$-distribution with smaller degrees of freedom has wider tails. As the degrees of freedom gets larger, the distribution more closely resembles a normal distribution (black). \n",
    "\n",
    "Here is the theoretical sampling distribution for our t-statistic on $30$ ($2\\times16-2$) degrees of freedom. "
   ]
  },
  {
   "cell_type": "code",
   "execution_count": 8,
   "metadata": {},
   "outputs": [
    {
     "data": {
      "text/plain": [
       "[<matplotlib.lines.Line2D at 0x7f85244c9320>]"
      ]
     },
     "execution_count": 8,
     "metadata": {},
     "output_type": "execute_result"
    },
    {
     "data": {
      "image/png": "[encoded data removed]",
      "text/plain": [
       "<matplotlib.figure.Figure at 0x7f8527675fd0>"
      ]
     },
     "metadata": {},
     "output_type": "display_data"
    }
   ],
   "source": [
    "rv30 = stats.t(df=30, loc=0, scale=1) # t distribution with 30 degrees of freedom #red\n",
    "x = np.linspace(-5, 5, 1000)\n",
    "plt.plot(x,rv30.pdf(x))"
   ]
  },
  {
   "cell_type": "markdown",
   "metadata": {},
   "source": [
    "This distribution reflects the $t$ statistics that we would likely see if the null hypothesis is true. As we can see, it is likely to see $t$ statistics around 0, and unlikely around 5 or -7.5. \n",
    "\n",
    "To calculate the $t$ statistic (for equal variances) for our data in python we can do:"
   ]
  },
  {
   "cell_type": "code",
   "execution_count": 9,
   "metadata": {},
   "outputs": [
    {
     "data": {
      "text/plain": [
       "Ttest_indResult(statistic=-6.1249748852887702, pvalue=9.8369312250035616e-07)"
      ]
     },
     "execution_count": 9,
     "metadata": {},
     "output_type": "execute_result"
    }
   ],
   "source": [
    "stats.ttest_ind(\n",
    "    df[df['wtCat']==\"Heavy\"][\"mpg\"],\n",
    "    df[df['wtCat']==\"Light\"][\"mpg\"],\n",
    "    equal_var=True\n",
    ")"
   ]
  },
  {
   "cell_type": "markdown",
   "metadata": {},
   "source": [
    "As we can see, the $t$ statistic is calculated to be $-6.125$. By looking at our graph above, we can see that these values are uncommon under the null hypothesis. To calculate the probability, under the null hypothesis, that we would see a value as extreme as $-6.125$ or smaller we can determine the area under the t-distribution (integration) from $-\\infty$ to $-6.1249748852887702$. In python this probability can be numerically approximated in the following way:"
   ]
  },
  {
   "cell_type": "code",
   "execution_count": 10,
   "metadata": {},
   "outputs": [
    {
     "data": {
      "text/plain": [
       "4.9184656125017808e-07"
      ]
     },
     "execution_count": 10,
     "metadata": {},
     "output_type": "execute_result"
    }
   ],
   "source": [
    "stats.t(df=30).cdf(-6.1249748852887702)"
   ]
  },
  {
   "cell_type": "markdown",
   "metadata": {},
   "source": [
    "Note, that this probability refers to $P(T<-6.125)$, whereas our alternative hypothesis was a statement of $\\ne$, so we are also interested in the $P(T>6.125)$ as well. Because the t-distribution is symmetrical we can just compute $2\\times P(T<-6.125)$ which is:"
   ]
  },
  {
   "cell_type": "code",
   "execution_count": 11,
   "metadata": {},
   "outputs": [
    {
     "data": {
      "text/plain": [
       "9.8369312250035616e-07"
      ]
     },
     "execution_count": 11,
     "metadata": {},
     "output_type": "execute_result"
    }
   ],
   "source": [
    "stats.t(df=30).cdf(-6.1249748852887702)*2"
   ]
  },
  {
   "cell_type": "markdown",
   "metadata": {},
   "source": [
    "Note that this probability is the same that was reported from the *stats.ttest_ind* function above.\n",
    "\n",
    "This probability of $9.837\\times 10^{-7}$ is what statisticians refer to as the p-value. We interpret the $t$ statistic and p-value in the following way: Under the assumption that the average MPG of heavy and light cars are no different, in repeated sampling, we would expect to see a difference as or more extreme then the one we saw with probability $9.8\\times 10^{-7}$. Therefore, we reject the *Null* hypothesis and conclude that there is statistical evidence in favor of the alternative hypothesis."
   ]
  },
  {
   "cell_type": "markdown",
   "metadata": {},
   "source": [
    "### Other notes and details\n",
    "\n",
    "Assumptions\n",
    "1. Independent Observations\n",
    "2. Equal Variance Across Groups in Population\n",
    "3. Dependent Variable is Normally Distributed in Population\n",
    "\n",
    "Precision and Recall\n",
    "\n",
    "Type 1 Error: Incorrect rejection of a true null hypothesis >> False Positives\n",
    "Type 2 Error: Incorrect retaining of a false null hypothesis >> False Negatives\n",
    "High Precision: Less False Positives\n",
    "High Recall: Less False Negatives\n"
   ]
  },
  {
   "cell_type": "markdown",
   "metadata": {},
   "source": [
    "### Conclusion\n",
    "\n",
    "Hypothesis testing is a formal way of testing a statement about a parameter(s) of interest. P-Values are the mechanism from which we are able to drive our conclusion."
   ]
  },
  {
   "cell_type": "markdown",
   "metadata": {},
   "source": [
    "\n",
    "# Bayes Rule\n",
    "\n",
    "Bayes rule says for events $A$ and $B$ that the conditional probability of $A$ given $B$ is equal to the product of the conditional probability of $B$ given $A$ times the probability of $A$ divided by the probability of $B$. Or in mathematical notation: $P(A\\mid B) = \\frac{P(B \\mid A) \\, P(A)}{P(B)}$. This is to say, the probability of event $A$ happening given that B already happened is a function of the prior probability of $A$ ($P(A)$), and the support $B$ provides for $A$ ($\\frac{P(B \\mid A)}{P(B)}$).\n",
    "\n",
    "\n",
    "# Bayesian Posterior Inference\n",
    "\n",
    "To motivate Bayesian Posterior Inference, lets take a look at our previous example, and dataset **mtcars**. \n",
    "\n",
    "First, we plot histograms of the MPG for \"Heavy\" and \"Light\" cars:"
   ]
  },
  {
   "cell_type": "code",
   "execution_count": 12,
   "metadata": {
    "scrolled": false
   },
   "outputs": [
    {
     "data": {
      "image/png": "[encoded data removed]",
      "text/plain": [
       "<matplotlib.figure.Figure at 0x7f8524694518>"
      ]
     },
     "metadata": {},
     "output_type": "display_data"
    }
   ],
   "source": [
    "Heavy= df[df['wtCat']==\"Heavy\"][\"mpg\"]\n",
    "Light= df[df['wtCat']==\"Light\"][\"mpg\"]\n",
    "\n",
    "%matplotlib inline\n",
    "\n",
    "sns.set(font_scale=1.5)\n",
    "plt.figure(figsize=(8,6))\n",
    "\n",
    "sns.distplot(Heavy)\n",
    "sns.distplot(Light)\n",
    "\n",
    "plt.xlabel('MPG')\n",
    "plt.ylabel('Density')\n",
    "plt.legend(['Heavy', 'Light'])\n",
    "\n",
    "plt.show()"
   ]
  },
  {
   "cell_type": "markdown",
   "metadata": {},
   "source": [
    "As we can see, the two distributions for Heavy and Light are quite different. It seems unlikely that the underlying population distributions have the same variance and they are possibly not normally distributed. Knowing that these are potentially untrue, we should question our original $t$ test, because two of our assumptions were normality and equal variances. \n",
    "\n",
    "As an alternative, a bayesian framework for statistical inference can be used. Here, I will introduce this framework. As we will see, the bayesian framework can be adapted to many types of data with varying levels of assumptions about its underlying distribution. \n",
    "\n",
    "In a Bayesian framework we are interested obtaining the posterior density of some parameter $\\mu$ given the data that we have seen, $p(\\mu \\mid y)$. Bayes rule says that we can write this as:\n",
    "\n",
    "$p(\\mu \\mid y) = \\frac{p(y \\mid \\mu) p(\\mu)}{p(y)}$, where $p(y)=\\sum_\\mu p(\\mu)p(y|\\mu)$, or $p(y)=\\int p(\\mu)p(y|\\mu)d\\mu$ if $\\mu$ is continuous. Here, because $p(y)$ does not depend on $\\mu$ and $y$ is fixed it can be considered a constant. So the *unnormalized posterior density* can be written as: $p(\\mu \\mid y) \\propto p(y \\mid \\mu) p(\\mu)$. Which it can be said that the posterior distribution is proportional to the prior distribution times the likelihood function of the data (y) given $\\mu$.\n",
    "\n",
    "In practice, we can use this proportionality to determine the distributional form and then work our way backwards to determine the appropriate constant that should go along with it. It is often up to the statistician to choose a distribution which the data follow (likelihood) as well as a choice for the distribution of the prior belief for the parameter ($\\mu$). \n",
    "\n",
    "It is not guaranteed that the statisticians choice of a likelihood and prior will yield a closed form solution for the posterior distribution. In this case, numerical techniques such as monte carlo markov chains (gibbs sampling) can be used to numerically approximate the posterior distribution. If the statistician chooses $p(y|\\mu)$ and $p(\\mu)$ such that their product results in a function of the same form as $p(\\mu)$, it is said that the prior and posterior are conjugate distributions. When conjugate priors are chosen, a closed form (formally written) posterior is obtainable. This allows for easier posterior inference on parameters of interest. "
   ]
  },
  {
   "cell_type": "code",
   "execution_count": 13,
   "metadata": {},
   "outputs": [],
   "source": [
    "import pymc as pm\n",
    "import numpy as np\n",
    "import seaborn as sns\n",
    "\n",
    "def setup_priors(data):\n",
    "    ''' setup priors. takes in combined populations as input'''\n",
    "    priors = dict()\n",
    "\n",
    "    # Setup our priors\n",
    "    lower = np.var(data)/1000.0\n",
    "    upper = np.var(data)*1000\n",
    "\n",
    "    v = pm.Exponential(\"nu\", beta=1.0/29) + 1\n",
    "    tau = 1.0/np.var(data)/1000.0\n",
    "    mu1 = pm.Normal('mu1', mu=np.mean(data), tau=tau)\n",
    "    var1 = pm.Uniform('var1', lower=lower, upper=upper)\n",
    "\n",
    "    mu2 = pm.Normal('mu2', mu=np.mean(data), tau=tau)\n",
    "    var2 = pm.Uniform('var2', lower=lower, upper=upper)\n",
    "\n",
    "    priors['mu1'] = mu1\n",
    "    priors['var1'] = var1\n",
    "    priors['mu2'] = mu2\n",
    "    priors['var2'] = var2\n",
    "    priors['v'] = v\n",
    "    \n",
    "    return priors\n",
    "\n",
    "def generate_models(values, values2, priors):\n",
    "    '''generate models based on priors and given samples'''\n",
    "    v = priors['v']\n",
    "    mu1 = priors['mu1']\n",
    "    var1 = priors['var1']\n",
    "    lam1 = 1.0/var1\n",
    "\n",
    "    mu2 = priors['mu2']\n",
    "    var2 = priors['var2']\n",
    "    lam2 = 1.0/var2\n",
    "\n",
    "    # Include our observed data into the model\n",
    "    t1 = pm.NoncentralT(\"t1\", mu=mu1, lam=lam1, nu=v, value=values, observed=True)\n",
    "    t2 = pm.NoncentralT(\"t2\", mu=mu2, lam=lam2, nu=v, value=values2, observed=True)\n",
    "    # Push our priors into a model\n",
    "    model = pm.Model([t1, mu1, var1, t2, mu2, var2, v])\n",
    "    \n",
    "    return model"
   ]
  },
  {
   "cell_type": "code",
   "execution_count": 14,
   "metadata": {},
   "outputs": [
    {
     "name": "stdout",
     "output_type": "stream",
     "text": [
      " [-----------------100%-----------------] 40000 of 40000 complete in 8.1 sec"
     ]
    }
   ],
   "source": [
    "priors = setup_priors(np.concatenate((Heavy, Light), axis=0))\n",
    "model = generate_models(Heavy, Light, priors)\n",
    "mcmc = pm.MCMC(model)  # Generate our MCMC object\n",
    "mcmc.sample(40000, 10000, 2)  # Run MCMC sampler"
   ]
  },
  {
   "cell_type": "code",
   "execution_count": 15,
   "metadata": {},
   "outputs": [
    {
     "data": {
      "image/png": "[encoded data removed]",
      "text/plain": [
       "<matplotlib.figure.Figure at 0x7f8523ac7748>"
      ]
     },
     "metadata": {},
     "output_type": "display_data"
    }
   ],
   "source": [
    "mu1 = mcmc.trace('mu1')[:] #get posterior means\n",
    "mu2 = mcmc.trace('mu2')[:]\n",
    "diff_mus = mu1-mu2 #calculate the difference of the means\n",
    "\n",
    "sns.set(font_scale=1.5)\n",
    "plt.figure(figsize=(8,6))\n",
    "\n",
    "sns.kdeplot(diff_mus)\n",
    "plt.title('Difference of means density plot')\n",
    "plt.vlines(0,0,0.45, linestyles='--', color='r')\n",
    "plt.ylabel('Density')\n",
    "plt.xlabel('MPG_Heavy - MPG_Light')\n",
    "plt.show()"
   ]
  },
  {
   "cell_type": "code",
   "execution_count": 17,
   "metadata": {},
   "outputs": [
    {
     "data": {
      "text/plain": [
       "2.5000000000000001e-05"
      ]
     },
     "execution_count": 17,
     "metadata": {},
     "output_type": "execute_result"
    }
   ],
   "source": [
    "sum(diff_mus>0)/40000"
   ]
  }
 ],
 "metadata": {
  "kernelspec": {
   "display_name": "Python 3",
   "language": "python",
   "name": "python3"
  },
  "language_info": {
   "codemirror_mode": {
    "name": "ipython",
    "version": 3
   },
   "file_extension": ".py",
   "mimetype": "text/x-python",
   "name": "python",
   "nbconvert_exporter": "python",
   "pygments_lexer": "ipython3",
   "version": "3.6.3"
  }
 },
 "nbformat": 4,
 "nbformat_minor": 2
}
