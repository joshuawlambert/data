{
 "cells": [
  {
   "cell_type": "markdown",
   "metadata": {},
   "source": [
    "# Overview of Today's Lecture\n",
    "Today we will discus two topics: Hypothesis Testing, and Bayesian Posterior Inference. \n",
    "\n",
    "To motivate the the understanding of these topics, we will focus our attention on a frequently used dataset **mtcars**. "
   ]
  },
  {
   "cell_type": "markdown",
   "metadata": {},
   "source": [
    "## Hypothesis Testing"
   ]
  },
  {
   "cell_type": "markdown",
   "metadata": {},
   "source": [
    "## Bayesian Posterior Inference\n",
    "Uisng congugate priors allow us to get a closed form solution of the posterior distribution. \n",
    "\n",
    "A family $\\mathscr{F}$ of prior distributions $p(\\theta)$ is conjugate to a likelihood $p(D|\\theta)$ is the posterior $p(\\theta|D)$ is in $\\mathscr{F}$. \n",
    "\n",
    "EX: Beta is conjugate to Bernoulli.\n",
    "    Gaussian is conj to Gaussian for the mean. \n",
    "    Any expoential family has a conjugate prior. \n",
    "    \n",
    "It is often convient if the product of $p(D|\\theta)$ and $p(\\theta)$, which is the numerator of Bayes' rule, results in a function of the same form as $p(\\theta)$.  "
   ]
  },
  {
   "cell_type": "markdown",
   "metadata": {},
   "source": [
    "### Beta-Bernoulli \n",
    "A Beta Distribution is conjugate prior for a Bernoulli($\\theta$) liklihood. \n",
    "\n",
    "Let $X_1, \\dots, X_n \\sim Bern(\\theta)$. Consider $\\theta \\sim Beta(a,b)$. \n",
    "\n",
    "$P(X=1|\\theta)=\\theta$, and \n",
    "\n",
    "$\n",
    "\\begin{eqnarray*}\n",
    "p(\\theta)=\\frac{\\theta^{\\alpha-1}(1-\\theta)^{\\beta-1}}{B(\\alpha,\\beta)} & \\propto & \\theta^{\\alpha-1}(1-\\theta)^{\\beta-1}\\\\\n",
    "\\mbox{Where } & B(a,b)=\\dfrac{\\Gamma\\left(\\alpha\\right)\\Gamma\\left(\\beta\\right)}{\\Gamma\\left(\\alpha+\\beta\\right)}\n",
    "\\end{eqnarray*}\n",
    "$\n",
    "    "
   ]
  },
  {
   "cell_type": "code",
   "execution_count": 50,
   "metadata": {},
   "outputs": [],
   "source": [
    "from __future__ import print_function\n",
    "from ipywidgets import interact, interactive, fixed, interact_manual\n",
    "import ipywidgets as widgets\n",
    "import numpy as np\n",
    "import matplotlib.pyplot as plt"
   ]
  },
  {
   "cell_type": "code",
   "execution_count": 51,
   "metadata": {},
   "outputs": [
    {
     "data": {
      "application/vnd.jupyter.widget-view+json": {
       "model_id": "cb8fe2096efc480ba71cd471d88b72aa",
       "version_major": 2,
       "version_minor": 0
      },
      "text/plain": [
       "A Jupyter Widget"
      ]
     },
     "metadata": {},
     "output_type": "display_data"
    },
    {
     "data": {
      "application/vnd.jupyter.widget-view+json": {
       "model_id": "0102a64a099746578c239d98df9397f2",
       "version_major": 2,
       "version_minor": 0
      },
      "text/plain": [
       "A Jupyter Widget"
      ]
     },
     "metadata": {},
     "output_type": "display_data"
    }
   ],
   "source": [
    "Alpha= widgets.IntSlider(description=\"Alpha:\")\n",
    "Beta= widgets.IntSlider(description=\"Beta:\")\n",
    "display(Alpha)\n",
    "display(Beta)"
   ]
  },
  {
   "cell_type": "code",
   "execution_count": 53,
   "metadata": {},
   "outputs": [
    {
     "data": {
      "text/plain": [
       "44"
      ]
     },
     "execution_count": 53,
     "metadata": {},
     "output_type": "execute_result"
    }
   ],
   "source": [
    "Alpha.value"
   ]
  }
 ],
 "metadata": {
  "kernelspec": {
   "display_name": "Python 3",
   "language": "python",
   "name": "python3"
  },
  "language_info": {
   "codemirror_mode": {
    "name": "ipython",
    "version": 3
   },
   "file_extension": ".py",
   "mimetype": "text/x-python",
   "name": "python",
   "nbconvert_exporter": "python",
   "pygments_lexer": "ipython3",
   "version": "3.6.3"
  }
 },
 "nbformat": 4,
 "nbformat_minor": 2
}
